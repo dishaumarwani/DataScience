{
 "cells": [
  {
   "cell_type": "markdown",
   "metadata": {
    "deletable": true,
    "editable": true
   },
   "source": [
    "# Build a predictive model using Decision Trees"
   ]
  },
  {
   "cell_type": "markdown",
   "metadata": {
    "deletable": true,
    "editable": true
   },
   "source": [
    "###  Preparing a Training Set and Training a Decision Tree\n",
    "We build a predictive model using Decision Trees. For this part, we will be using the data in `cell2cell_data.csv`.\n",
    "\n",
    "These historical data consist of 39,859 customers: 19,901 customers that churned (i.e., left the company) and 19,958 that did not churn (see the `\"churndep\"` variable). Here are the data set's 11 possible predictor variables for churning behavior: \n",
    "\n",
    "```\n",
    "Pos.  Var. Name  Var. Description\n",
    "----- ---------- --------------------------------------------------------------\n",
    "1     revenue    Mean monthly revenue in dollars\n",
    "2     outcalls   Mean number of outbound voice calls\n",
    "3     incalls    Mean number of inbound voice calls\n",
    "4     months     Months in Service\n",
    "5     eqpdays    Number of days the customer has had his/her current equipment\n",
    "6     webcap     Handset is web capable\n",
    "7     marryyes   Married (1=Yes; 0=No)\n",
    "8     travel     Has traveled to non-US country (1=Yes; 0=No)\n",
    "9     pcown      Owns a personal computer (1=Yes; 0=No)\n",
    "10    creditcd   Possesses a credit card (1=Yes; 0=No)\n",
    "11    retcalls   Number of calls previously made to retention team\n",
    "```\n",
    "\n",
    "The 12th column, the dependent variable `\"churndep\"`, equals 1 if the customer churned, and 0 otherwise. "
   ]
  },
  {
   "cell_type": "markdown",
   "metadata": {
    "deletable": true,
    "editable": true
   },
   "source": [
    "Load the data and prepare it for modeling. Split the data into training and testing. We use pandas to create two data frames: train_df and test_df, where train_df has 80% of the data chosen uniformly at random without replacement (test_df should have the other 20%)."
   ]
  },
  {
   "cell_type": "code",
   "execution_count": 1,
   "metadata": {
    "collapsed": true,
    "deletable": true,
    "editable": true
   },
   "outputs": [],
   "source": [
    "#import the data analysis libararies for Python\n",
    "import pandas as pd\n",
    "import numpy as np"
   ]
  },
  {
   "cell_type": "code",
   "execution_count": 2,
   "metadata": {
    "collapsed": false,
    "deletable": true,
    "editable": true
   },
   "outputs": [
    {
     "data": {
      "text/html": [
       "<div>\n",
       "<style>\n",
       "    .dataframe thead tr:only-child th {\n",
       "        text-align: right;\n",
       "    }\n",
       "\n",
       "    .dataframe thead th {\n",
       "        text-align: left;\n",
       "    }\n",
       "\n",
       "    .dataframe tbody tr th {\n",
       "        vertical-align: top;\n",
       "    }\n",
       "</style>\n",
       "<table border=\"1\" class=\"dataframe\">\n",
       "  <thead>\n",
       "    <tr style=\"text-align: right;\">\n",
       "      <th></th>\n",
       "      <th>revenue</th>\n",
       "      <th>outcalls</th>\n",
       "      <th>incalls</th>\n",
       "      <th>months</th>\n",
       "      <th>eqpdays</th>\n",
       "      <th>webcap</th>\n",
       "      <th>marryyes</th>\n",
       "      <th>travel</th>\n",
       "      <th>pcown</th>\n",
       "      <th>creditcd</th>\n",
       "      <th>retcalls</th>\n",
       "      <th>churndep</th>\n",
       "    </tr>\n",
       "  </thead>\n",
       "  <tbody>\n",
       "    <tr>\n",
       "      <th>0</th>\n",
       "      <td>48.82</td>\n",
       "      <td>10.00</td>\n",
       "      <td>3.0</td>\n",
       "      <td>26</td>\n",
       "      <td>780</td>\n",
       "      <td>0</td>\n",
       "      <td>0</td>\n",
       "      <td>0</td>\n",
       "      <td>0</td>\n",
       "      <td>1</td>\n",
       "      <td>4</td>\n",
       "      <td>1</td>\n",
       "    </tr>\n",
       "    <tr>\n",
       "      <th>1</th>\n",
       "      <td>83.53</td>\n",
       "      <td>20.00</td>\n",
       "      <td>1.0</td>\n",
       "      <td>31</td>\n",
       "      <td>745</td>\n",
       "      <td>1</td>\n",
       "      <td>0</td>\n",
       "      <td>0</td>\n",
       "      <td>0</td>\n",
       "      <td>0</td>\n",
       "      <td>4</td>\n",
       "      <td>1</td>\n",
       "    </tr>\n",
       "    <tr>\n",
       "      <th>2</th>\n",
       "      <td>29.99</td>\n",
       "      <td>0.00</td>\n",
       "      <td>0.0</td>\n",
       "      <td>52</td>\n",
       "      <td>1441</td>\n",
       "      <td>0</td>\n",
       "      <td>0</td>\n",
       "      <td>0</td>\n",
       "      <td>1</td>\n",
       "      <td>1</td>\n",
       "      <td>3</td>\n",
       "      <td>1</td>\n",
       "    </tr>\n",
       "    <tr>\n",
       "      <th>3</th>\n",
       "      <td>51.42</td>\n",
       "      <td>0.00</td>\n",
       "      <td>0.0</td>\n",
       "      <td>36</td>\n",
       "      <td>59</td>\n",
       "      <td>1</td>\n",
       "      <td>0</td>\n",
       "      <td>0</td>\n",
       "      <td>0</td>\n",
       "      <td>0</td>\n",
       "      <td>4</td>\n",
       "      <td>1</td>\n",
       "    </tr>\n",
       "    <tr>\n",
       "      <th>4</th>\n",
       "      <td>37.75</td>\n",
       "      <td>2.67</td>\n",
       "      <td>0.0</td>\n",
       "      <td>25</td>\n",
       "      <td>572</td>\n",
       "      <td>0</td>\n",
       "      <td>0</td>\n",
       "      <td>0</td>\n",
       "      <td>1</td>\n",
       "      <td>1</td>\n",
       "      <td>3</td>\n",
       "      <td>1</td>\n",
       "    </tr>\n",
       "  </tbody>\n",
       "</table>\n",
       "</div>"
      ],
      "text/plain": [
       "   revenue  outcalls  incalls  months  eqpdays  webcap  marryyes  travel  \\\n",
       "0    48.82     10.00      3.0      26      780       0         0       0   \n",
       "1    83.53     20.00      1.0      31      745       1         0       0   \n",
       "2    29.99      0.00      0.0      52     1441       0         0       0   \n",
       "3    51.42      0.00      0.0      36       59       1         0       0   \n",
       "4    37.75      2.67      0.0      25      572       0         0       0   \n",
       "\n",
       "   pcown  creditcd  retcalls  churndep  \n",
       "0      0         1         4         1  \n",
       "1      0         0         4         1  \n",
       "2      1         1         3         1  \n",
       "3      0         0         4         1  \n",
       "4      1         1         3         1  "
      ]
     },
     "execution_count": 2,
     "metadata": {},
     "output_type": "execute_result"
    }
   ],
   "source": [
    "#create a dataframe df and use read_csv to load data into a dataframe \n",
    "df = pd.read_csv('Data/Cell2Cell_data.csv')\n",
    "#print the dataframe to check if the data has been loaded\n",
    "df.head()"
   ]
  },
  {
   "cell_type": "markdown",
   "metadata": {
    "deletable": true,
    "editable": true
   },
   "source": [
    "Create a numpy series mask which has length of the dataframe and has randomly chosen true and false values.\\n\n",
    "Then, create a train and test dataframe using this mask. Taking the value 0.8 splits the data into 80:20 ratio"
   ]
  },
  {
   "cell_type": "code",
   "execution_count": 3,
   "metadata": {
    "collapsed": true,
    "deletable": true,
    "editable": true
   },
   "outputs": [],
   "source": [
    "msk = np.random.rand(len(df)) < 0.8\n",
    "train_df = df[msk]\n",
    "test_df = df[~msk]"
   ]
  },
  {
   "cell_type": "code",
   "execution_count": 4,
   "metadata": {
    "collapsed": false,
    "deletable": true,
    "editable": true
   },
   "outputs": [],
   "source": [
    "from sklearn.tree import DecisionTreeClassifier\n",
    "import matplotlib.pyplot as plt\n",
    "%matplotlib inline"
   ]
  },
  {
   "cell_type": "code",
   "execution_count": 5,
   "metadata": {
    "collapsed": false,
    "deletable": true,
    "editable": true
   },
   "outputs": [
    {
     "data": {
      "text/plain": [
       "<matplotlib.text.Text at 0x1a0e539390>"
      ]
     },
     "execution_count": 5,
     "metadata": {},
     "output_type": "execute_result"
    },
    {
     "data": {
      "image/png": "[encoded data removed]",
      "text/plain": [
       "<matplotlib.figure.Figure at 0x1a0e500ef0>"
      ]
     },
     "metadata": {},
     "output_type": "display_data"
    }
   ],
   "source": [
    "#This can also be done with indexing rather than stating the column names\n",
    "#Divide the data into into Features and Labels\n",
    "features = train_df[['revenue', 'outcalls', 'incalls', 'months', 'eqpdays', 'webcap',\n",
    "               'marryyes','travel','pcown','creditcd','retcalls']]\n",
    "labels = train_df[['churndep']]\n",
    "#you can choose the criterion to be anything, I chose Entropy\n",
    "clf = DecisionTreeClassifier(criterion='entropy')\n",
    "clf = clf.fit(features, labels)\n",
    "#sklearn also has build-in means to check which feature contributes more to the prediction.\n",
    "importances = clf.feature_importances_\n",
    "#Plot it to check \n",
    "fig, ax = plt.subplots()\n",
    "width = 0.35\n",
    "ax.bar(range(len(importances)), importances, width, color='r')\n",
    "ax.set_xticks(np.arange(len(clf.feature_importances_)))\n",
    "ax.set_xticklabels(['revenue', 'outcalls', 'incalls', 'months', 'eqpdays', 'webcap',\n",
    "               'marryyes','travel','pcown','creditcd','retcalls'], rotation = 90, fontsize='large')\n",
    "plt.title('Feature Importance from DT')\n",
    "ax.set_ylabel('Normalized Gini Importance')"
   ]
  },
  {
   "cell_type": "markdown",
   "metadata": {
    "deletable": true,
    "editable": true
   },
   "source": [
    "Predict the values on train and test data and predict the accuracy of your model. The train data will have very high accuracy as the model tends to overfit on train data. "
   ]
  },
  {
   "cell_type": "code",
   "execution_count": 6,
   "metadata": {
    "collapsed": false,
    "deletable": true,
    "editable": true
   },
   "outputs": [
    {
     "name": "stdout",
     "output_type": "stream",
     "text": [
      "The accuracy on the train data is: 0.528748590755\n",
      "The accuracy on the train data is: 0.999811770611\n"
     ]
    }
   ],
   "source": [
    "from sklearn import metrics\n",
    "X = test_df.iloc[:,:11]\n",
    "y = test_df.iloc[:,11]\n",
    "y_pred=clf.predict(X)\n",
    "accu_test = metrics.accuracy_score(y,y_pred)\n",
    "print(\"The accuracy on the train data is:\", accu_test)\n",
    "\n",
    "X = train_df.iloc[:,:11]\n",
    "y = train_df.iloc[:,11]\n",
    "y_pred=clf.predict(X)\n",
    "accu_train = metrics.accuracy_score(y,y_pred)\n",
    "print(\"The accuracy on the train data is:\", accu_train)"
   ]
  },
  {
   "cell_type": "markdown",
   "metadata": {
    "collapsed": false,
    "deletable": true,
    "editable": true
   },
   "source": [
    "### Lets Find a Good Decision Tree\n",
    "The default options for your decision tree may not be optimal. We need to analyze whether tuning the parameters can improve the accuracy of the classifier.  For the following options `min_samples_split` and `min_samples_leaf`:\n"
   ]
  },
  {
   "cell_type": "markdown",
   "metadata": {
    "deletable": true,
    "editable": true
   },
   "source": [
    "Generate a list of 10 values of each for the parameters min_samples_split and min_samples_leaf. The range has been chosen by an iterative process. As the data is very large, the minimumm leave size can be large enough to avoid overfitting of the data. The split size shouldn't be very large over a very complex model, but number of observations divided by a few hundreds."
   ]
  },
  {
   "cell_type": "code",
   "execution_count": 7,
   "metadata": {
    "collapsed": false,
    "deletable": true,
    "editable": true
   },
   "outputs": [],
   "source": [
    "splits= np.arange(500,600)\n",
    "leaves= np.arange(20,30)"
   ]
  },
  {
   "cell_type": "markdown",
   "metadata": {
    "deletable": true,
    "editable": true
   },
   "source": [
    "Build a new classifier FOR different values of splits and leaves and check the classifier's accuracy on the test data. \n",
    "Next, Plot the test set accuracy for these options.\n",
    "We use the values of `min_samples_split` as the x-axis and generate a new series (line) for each of `min_samples_leaf`."
   ]
  },
  {
   "cell_type": "code",
   "execution_count": 8,
   "metadata": {
    "collapsed": true,
    "deletable": true,
    "editable": true
   },
   "outputs": [],
   "source": [
    "#define a function to build a decision tree classifier and return the accuracy\n",
    "def testTrees(X_train,y_train,X_test,y_test,split,leaf):\n",
    "    clf = DecisionTreeClassifier(criterion='entropy',min_samples_split=split,min_samples_leaf=leaf)\n",
    "    clf = clf.fit(X_train,y_train)\n",
    "    y_pred = clf.predict(X_test)\n",
    "    acc_pred = metrics.accuracy_score(y_test,y_pred)\n",
    "    return acc_pred"
   ]
  },
  {
   "cell_type": "code",
   "execution_count": 9,
   "metadata": {
    "collapsed": false,
    "deletable": true,
    "editable": true
   },
   "outputs": [],
   "source": [
    "#Run all of the options\n",
    "run=1\n",
    "if (run==1):\n",
    "    #Initialize dictionary of results\n",
    "    res=dict()\n",
    "    for l in leaves:\n",
    "        res[l]=list()\n",
    "\n",
    "    #Now train and get results for each option\n",
    "    for l in leaves:\n",
    "        for s in splits:\n",
    "            res[l].append(testTrees(train_df.iloc[:,:11],train_df.iloc[:,11], test_df.iloc[:,:11], test_df.iloc[:,11], s, l))"
   ]
  },
  {
   "cell_type": "code",
   "execution_count": 10,
   "metadata": {
    "collapsed": false,
    "deletable": true,
    "editable": true
   },
   "outputs": [
    {
     "data": {
      "text/plain": [
       "<matplotlib.text.Text at 0x1a172c9128>"
      ]
     },
     "execution_count": 10,
     "metadata": {},
     "output_type": "execute_result"
    },
    {
     "data": {
      "image/png": "[encoded data removed]",
      "text/plain": [
       "<matplotlib.figure.Figure at 0x1a0ec56048>"
      ]
     },
     "metadata": {},
     "output_type": "display_data"
    }
   ],
   "source": [
    "fig = plt.figure()\n",
    "ax=fig.add_subplot(111)\n",
    "plt.plot(splits,res[leaves[0]],'b-',label='leaves={}'.format(leaves[0]))\n",
    "plt.plot(splits,res[leaves[1]],'r-',label='leaves={}'.format(leaves[1]))\n",
    "plt.plot(splits,res[leaves[2]],'y-',label='leaves={}'.format(leaves[2]))\n",
    "plt.plot(splits,res[leaves[3]],'g-',label='leaves={}'.format(leaves[3]))\n",
    "plt.plot(splits,res[leaves[4]],'c-',label='leaves={}'.format(leaves[4]))\n",
    "plt.plot(splits,res[leaves[5]],'m-',label='leaves={}'.format(leaves[5]))\n",
    "plt.plot(splits,res[leaves[6]],'k-',label='leaves={}'.format(leaves[6]))\n",
    "plt.plot(splits,res[leaves[7]],'w-',label='leaves={}'.format(leaves[7]))\n",
    "plt.plot(splits,res[leaves[8]],'b-',label='leaves={}'.format(leaves[8]))\n",
    "plt.plot(splits,res[leaves[9]],'g-',label='leaves={}'.format(leaves[9]))\n",
    "\n",
    "plt.legend(loc=4)\n",
    "ax.set_xlabel('Min Sample Split')\n",
    "ax.set_ylabel('Test Accuracy')\n",
    "plt.title('Accuracy by Hyperparameters')"
   ]
  },
  {
   "cell_type": "markdown",
   "metadata": {},
   "source": [
    "Lets perform some more experiments by changing the depth parameter"
   ]
  },
  {
   "cell_type": "code",
   "execution_count": 11,
   "metadata": {
    "collapsed": true
   },
   "outputs": [],
   "source": [
    "def testTreesforROC(X_train,y_train,X_test,y_test,dep,leaf,auc):\n",
    "    clf = DecisionTreeClassifier(criterion='entropy',min_samples_leaf=leaf,max_depth=dep)\n",
    "    clf = clf.fit(X_train,y_train)\n",
    "    if (auc==0):\n",
    "        cm = confusion_matrix(clf.predict(X_test),y_test)\n",
    "        return (cm[0][0]+cm[1][1])/float(sum(cm))\n",
    "    else:\n",
    "        return roc_auc_score(y_test, clf.predict_proba(X_test)[:,1])"
   ]
  },
  {
   "cell_type": "code",
   "execution_count": 12,
   "metadata": {
    "collapsed": false
   },
   "outputs": [
    {
     "data": {
      "text/plain": [
       "{4: [0.62473136501357207,\n",
       "  0.62473136501357207,\n",
       "  0.62473136501357207,\n",
       "  0.62473136501357207,\n",
       "  0.62473136501357207,\n",
       "  0.62473136501357207,\n",
       "  0.62473136501357207,\n",
       "  0.62473136501357207,\n",
       "  0.62473136501357207,\n",
       "  0.62473136501357207],\n",
       " 5: [0.62652224399402878,\n",
       "  0.62652249514278302,\n",
       "  0.62652243235559446,\n",
       "  0.62652243235559446,\n",
       "  0.62652243235559446,\n",
       "  0.62679970058045509,\n",
       "  0.62679970058045509,\n",
       "  0.62679970058045509,\n",
       "  0.62613305760548754,\n",
       "  0.62613305760548754],\n",
       " 10: [0.60972510136363733,\n",
       "  0.60871080572538783,\n",
       "  0.61072206773783289,\n",
       "  0.61125340432136599,\n",
       "  0.61067507152716538,\n",
       "  0.61016357569523005,\n",
       "  0.61124659191140274,\n",
       "  0.61305536524061066,\n",
       "  0.6125101526883967,\n",
       "  0.61361122022129222],\n",
       " 20: [0.58090888976177024,\n",
       "  0.58348005652856161,\n",
       "  0.58393171616976047,\n",
       "  0.58438538500099457,\n",
       "  0.58104064867704897,\n",
       "  0.58229457162059262,\n",
       "  0.58222999499711681,\n",
       "  0.58517509086561936,\n",
       "  0.58420471486579617,\n",
       "  0.58860882802940662]}"
      ]
     },
     "execution_count": 12,
     "metadata": {},
     "output_type": "execute_result"
    }
   ],
   "source": [
    "from sklearn.metrics import roc_auc_score\n",
    "\n",
    "lab='churndep'\n",
    "\n",
    "depths=[4,5,10,20]\n",
    "leaves= list(np.arange(20,30))\n",
    "#Run all of the options\n",
    "run=1\n",
    "if (run==1):\n",
    "    #Initialize dictionary of results\n",
    "    res_roc=dict()\n",
    "    for d in depths:\n",
    "        res_roc[d]=list()\n",
    "\n",
    "    #Now train and get results for each option\n",
    "    for d in depths:\n",
    "        for l in leaves:\n",
    "            res_roc[d].append(testTreesforROC(train_df.drop(lab,1),train_df[lab],test_df.drop(lab,1),test_df[lab],d,l,1))\n",
    "res_roc"
   ]
  },
  {
   "cell_type": "code",
   "execution_count": 13,
   "metadata": {
    "collapsed": false
   },
   "outputs": [
    {
     "data": {
      "text/plain": [
       "<matplotlib.text.Text at 0x10b722240>"
      ]
     },
     "execution_count": 13,
     "metadata": {},
     "output_type": "execute_result"
    },
    {
     "data": {
      "image/png": "[encoded data removed]",
      "text/plain": [
       "<matplotlib.figure.Figure at 0x1a1790a550>"
      ]
     },
     "metadata": {},
     "output_type": "display_data"
    }
   ],
   "source": [
    "#Now plot            \n",
    "fig = plt.figure()\n",
    "ax=fig.add_subplot(111)\n",
    "plt.plot(leaves,res_roc[depths[0]],'b-',label='depth={}'.format(depths[0]))\n",
    "plt.plot(leaves,res_roc[depths[1]],'r-',label='depth={}'.format(depths[1]))\n",
    "plt.plot(leaves,res_roc[depths[2]],'y-',label='depth={}'.format(depths[2]))\n",
    "plt.plot(leaves,res_roc[depths[3]],'g-',label='depth={}'.format(depths[3]))\n",
    "plt.legend(loc=4)\n",
    "ax.set_xlabel('Min Leaf Size')\n",
    "ax.set_ylabel('Test Set AUC')\n",
    "plt.title('Holdout AUC by Hyperparameters')"
   ]
  },
  {
   "cell_type": "markdown",
   "metadata": {
    "deletable": true,
    "editable": true
   },
   "source": [
    "Does the accuracy of your decision tree increase or decrease? \n",
    "It definately increases to a certain extent.\n",
    "\n",
    "There is a lot of further scope for experiment.\n",
    "\n",
    "Some refernces:\n",
    "http://scikit-learn.org/stable/modules/tree.html \n",
    "\n",
    "A really cool and simple explanation for starters like me:\n",
    "\n",
    "https://medium.com/machine-learning-101/chapter-3-decision-trees-theory-e7398adac567\n",
    "\n",
    "Learn about confusion matrix:\n",
    "http://www.dataschool.io/simple-guide-to-confusion-matrix-terminology/\n",
    "\n",
    "\n",
    "Credits: This work is a part of classroom course of Foundations of Data Science under Prof. Rumi Chunara"
   ]
  }
 ],
 "metadata": {
  "kernelspec": {
   "display_name": "Python 3",
   "language": "python",
   "name": "python3"
  },
  "language_info": {
   "codemirror_mode": {
    "name": "ipython",
    "version": 3
   },
   "file_extension": ".py",
   "mimetype": "text/x-python",
   "name": "python",
   "nbconvert_exporter": "python",
   "pygments_lexer": "ipython3",
   "version": "3.6.0"
  }
 },
 "nbformat": 4,
 "nbformat_minor": 0
}
